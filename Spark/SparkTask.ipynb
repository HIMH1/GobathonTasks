{
 "cells": [
  {
   "cell_type": "markdown",
   "id": "83607066",
   "metadata": {},
   "source": [
    "**1. Importing packageds: The task is solved using `pyspark.sql` functions**"
   ]
  },
  {
   "cell_type": "code",
   "execution_count": 113,
   "id": "80087b7f",
   "metadata": {},
   "outputs": [],
   "source": [
    "from pyspark.sql import SparkSession\n",
    "from pyspark.sql import functions"
   ]
  },
  {
   "cell_type": "code",
   "execution_count": 114,
   "id": "12a098a0",
   "metadata": {},
   "outputs": [],
   "source": [
    "sp1 = SparkSession.builder.appName('Paymob').getOrCreate()"
   ]
  },
  {
   "cell_type": "markdown",
   "id": "860d8295",
   "metadata": {},
   "source": [
    "**2. Building the task main function**"
   ]
  },
  {
   "cell_type": "code",
   "execution_count": 119,
   "id": "f9e38985",
   "metadata": {},
   "outputs": [],
   "source": [
    "# The functions takes one argument: path the the csv file\n",
    "def group_sort(input_path):\n",
    "    # Importing the csv file into the DataFrame\n",
    "    df = sp1.read.csv(input_path, inferSchema=True, header=True)\n",
    "    \n",
    "    \n",
    "    # This is a combined statement consists of:\n",
    "        # 1. Grouping on 'Job' column\n",
    "        # 2. Applying agg function 'count' to count members of each group\n",
    "        # 3. Sorting desc on the 'count' column (Alias count used)\n",
    "    out = df.groupby('job').agg(functions.count('job').alias('count')).sort(functions.desc('count'))\n",
    "    \n",
    "    \n",
    "    # Defining the dictionary to store the data in\n",
    "    dict = {}\n",
    "    \n",
    "    # Iterating on the rows of the resulting dataframe and storing data in dict\n",
    "    for row in out.rdd.collect():\n",
    "        dict[row['job']] = row['count']\n",
    "        \n",
    "    # Printing out result\n",
    "    print(dict)"
   ]
  },
  {
   "cell_type": "markdown",
   "id": "d33bbee8",
   "metadata": {},
   "source": [
    "**3. The csv file is placed in the same directory as this notebook**"
   ]
  },
  {
   "cell_type": "code",
   "execution_count": 122,
   "id": "5a7fe9b7",
   "metadata": {},
   "outputs": [
    {
     "name": "stdout",
     "output_type": "stream",
     "text": [
      "{'Film editor': 40, 'Nurse': 34, 'Dancer': 34, 'Software engineer': 33, 'Office manager': 31, 'Banker': 31, 'Designer': 29, 'Barista': 28, 'Teacher': 24, 'Pilot': 15}\n"
     ]
    }
   ],
   "source": [
    "group_sort('jobs.csv')"
   ]
  }
 ],
 "metadata": {
  "kernelspec": {
   "display_name": "Python 3 (ipykernel)",
   "language": "python",
   "name": "python3"
  },
  "language_info": {
   "codemirror_mode": {
    "name": "ipython",
    "version": 3
   },
   "file_extension": ".py",
   "mimetype": "text/x-python",
   "name": "python",
   "nbconvert_exporter": "python",
   "pygments_lexer": "ipython3",
   "version": "3.10.5"
  }
 },
 "nbformat": 4,
 "nbformat_minor": 5
}
